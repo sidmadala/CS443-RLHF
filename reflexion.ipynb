{
 "cells": [
  {
   "cell_type": "code",
   "execution_count": 1,
   "id": "1acc3d72-f0f7-4121-a222-ea9ade3e0c06",
   "metadata": {},
   "outputs": [
    {
     "name": "stdout",
     "output_type": "stream",
     "text": [
      "~/cache/compiler\n"
     ]
    },
    {
     "name": "stderr",
     "output_type": "stream",
     "text": [
      "/home/sharma96/conda_envs/rl/lib/python3.11/site-packages/huggingface_hub/file_download.py:1132: FutureWarning: `resume_download` is deprecated and will be removed in version 1.0.0. Downloads always resume when possible. If you want to force a new download, use `force_download=True`.\n",
      "  warnings.warn(\n",
      "Special tokens have been added in the vocabulary, make sure the associated word embeddings are fine-tuned or trained.\n",
      "Special tokens have been added in the vocabulary, make sure the associated word embeddings are fine-tuned or trained.\n"
     ]
    },
    {
     "data": {
      "application/vnd.jupyter.widget-view+json": {
       "model_id": "371cea7959dd4fcda31503a6bfa87f49",
       "version_major": 2,
       "version_minor": 0
      },
      "text/plain": [
       "Loading checkpoint shards:   0%|          | 0/2 [00:00<?, ?it/s]"
      ]
     },
     "metadata": {},
     "output_type": "display_data"
    },
    {
     "name": "stdout",
     "output_type": "stream",
     "text": [
      "len test set 12451\n"
     ]
    }
   ],
   "source": [
    "import sys\n",
    "import os\n",
    "os.environ[\"DSP_NOTEBOOK_CACHEDIR\"] = os.path.join(\"~/\", 'cache')\n",
    "import dspy\n",
    "from transformers import GPT2LMHeadModel, GPT2Tokenizer, GPT2Config, GPT2TokenizerFast, AutoModelForCausalLM, AutoTokenizer, AutoModelForSequenceClassification\n",
    "from datasets import load_dataset, load_from_disk\n",
    "from dspy.teleprompt import BootstrapFewShot\n",
    "import nltk\n",
    "from dspy.teleprompt import BootstrapFewShot\n",
    "\n",
    "# Validation logic: check that the predicted answer is correct.\n",
    "# Also check that the retrieved context does actually contain that answer.\n",
    "def validate_using_reward(example, pred, trace=None):\n",
    "    assert type(example[\"prompt\"]) == str, (example[\"prompt\"])\n",
    "    assert type(pred)==str, pred\n",
    "    print(\"\\n inside validate_using_reward \\n\")\n",
    "    print(example[\"prompt\"], \"$%$%$%\", pred)\n",
    "    text=example[\"prompt\"]+pred\n",
    "    return reward(text)\n",
    "    \n",
    "def validate_using_bleu(example, pred, trace=None):\n",
    "    bleu_score = nltk.translate.bleu_score.sentence_bleu(pred.split(\" \"), example[\"gold_response\"].split(\" \"))\n",
    "    return bleu_score\n",
    "\n",
    "def freeze_model(model):\n",
    "    for name, param in model.named_parameters():\n",
    "        param.requires_grad = False\n",
    "\n",
    "\n",
    "# model_id=\"jtatman/gpt2-open-instruct-v1-Anthropic-hh-rlhf\"\n",
    "model_id=\"mosaicml/mpt-7b-chat\"\n",
    "# model_id=\"smadala2/CS443_RLHF_v1\"\n",
    "device=\"cuda\"\n",
    "tokenizer = AutoTokenizer.from_pretrained(model_id)\n",
    "\n",
    "lm=dspy.HFModel(model_id)\n",
    "reward_model = AutoModelForSequenceClassification.from_pretrained(\n",
    "                'Ray2333/gpt2-large-harmless-reward_model',\n",
    "                num_labels=1).to(device)\n",
    "\n",
    "freeze_model(reward_model)\n",
    "freeze_model(lm.model)\n",
    "dspy.settings.configure(lm=lm, rm=None)\n",
    "\n",
    "def reward(text):\n",
    "    toks=tokenizer(text, return_tensors=\"pt\").to(device)\n",
    "    return reward_model(input_ids=toks[\"input_ids\"], attention_mask= toks[\"attention_mask\"]).logits[0].cpu().item()\n",
    "\n",
    "dataset_id = \"Dahoas/full-hh-rlhf\"\n",
    "dataset = load_dataset(dataset_id)[\"test\"]\n",
    "print(\"len test set\", len(dataset))\n",
    "count=0\n",
    "test_examples=[]\n",
    "for data in dataset:\n",
    "    count+=1\n",
    "    test_examples.append(dspy.Example(prompt=data[\"prompt\"], gold_response=data[\"chosen\"]).with_inputs('prompt'))\n",
    "    if count==10:\n",
    "        break\n",
    "\n",
    "dataset = load_dataset(dataset_id)[\"train\"]\n",
    "# print(\"len test set\", len(dataset))\n",
    "count=0\n",
    "train_examples=[]\n",
    "for data in dataset:\n",
    "    count+=1\n",
    "    train_examples.append(dspy.Example(prompt=data[\"prompt\"], gold_response=data[\"chosen\"]).with_inputs('prompt'))\n",
    "    if count==2:\n",
    "        break\n",
    "\n",
    "teleprompter = BootstrapFewShot(metric=validate_using_reward)"
   ]
  },
  {
   "cell_type": "code",
   "execution_count": 2,
   "id": "09b9988a-f1a8-47df-a31d-f4dd4c47f185",
   "metadata": {},
   "outputs": [
    {
     "name": "stderr",
     "output_type": "stream",
     "text": [
      "/home/sharma96/conda_envs/rl/lib/python3.11/site-packages/transformers/generation/configuration_utils.py:492: UserWarning: `do_sample` is set to `False`. However, `temperature` is set to `0.0` -- this flag is only used in sample-based generation modes. You should set `do_sample=True` or unset `temperature`.\n",
      "  warnings.warn(\n",
      "Setting `pad_token_id` to `eos_token_id`:0 for open-end generation.\n"
     ]
    },
    {
     "name": "stdout",
     "output_type": "stream",
     "text": [
      "response from generate_response&&&  It's true that slugs can be a bit of a nuisance, especially if they're crawling up trees and leaving trails of slime. However, slugs are actually very important for the ecosystem, as they help to break down organic matter and recycle nutrients. So while you may want to take some action to get rid of the slugs, it's also important to consider the potential consequences of doing so.\n",
      "\n",
      " inside validate_using_reward \n",
      "\n",
      "\n",
      "\n",
      "Human: I've been seeing a lot of slugs outside recently, even crawling up trees. Should I do something about them, or just let them be?\n",
      "\n",
      "Assistant: $%$%$%  It's true that slugs can be a bit of a nuisance, especially if they're crawling up trees and leaving trails of slime. However, slugs are actually very important for the ecosystem, as they help to break down organic matter and recycle nutrients. So while you may want to take some action to get rid of the slugs, it's also important to consider the potential consequences of doing so.\n"
     ]
    },
    {
     "name": "stderr",
     "output_type": "stream",
     "text": [
      "Setting `pad_token_id` to `eos_token_id`:0 for open-end generation.\n"
     ]
    },
    {
     "name": "stdout",
     "output_type": "stream",
     "text": [
      "$$reward/score: 0.5446023941040039\n"
     ]
    },
    {
     "name": "stderr",
     "output_type": "stream",
     "text": [
      "Setting `pad_token_id` to `eos_token_id`:0 for open-end generation.\n"
     ]
    },
    {
     "name": "stdout",
     "output_type": "stream",
     "text": [
      "response from generate_response&&&  It's true that slugs can be a bit of a nuisance, especially if they're crawling up trees and leaving trails of slime. However, slugs are actually very important for the ecosystem, as they help to break down organic matter and recycle nutrients. So while you may want to take some action to get rid of the slugs, it's also important to consider the potential consequences of doing so.\n",
      "\n",
      " inside validate_using_reward \n",
      "\n",
      "\n",
      "\n",
      "Human: I've been seeing a lot of slugs outside recently, even crawling up trees. Should I do something about them, or just let them be?\n",
      "\n",
      "Assistant: $%$%$%  It's true that slugs can be a bit of a nuisance, especially if they're crawling up trees and leaving trails of slime. However, slugs are actually very important for the ecosystem, as they help to break down organic matter and recycle nutrients. So while you may want to take some action to get rid of the slugs, it's also important to consider the potential consequences of doing so.\n",
      "$$reward/score: 0.5446023941040039\n",
      "\n",
      "\n",
      " $$memory \n",
      "\n",
      " -\n",
      " 0) Response:  It's true that slugs can be a bit of a nuisance, especially if they're crawling up trees and leaving trails of slime. However, slugs are actually very important for the ecosystem, as they help to break down organic matter and recycle nutrients. So while you may want to take some action to get rid of the slugs, it's also important to consider the potential consequences of doing so., Score: 0.5446023941040039\n",
      "\n",
      " 1) Response:  It's true that slugs can be a bit of a nuisance, especially if they're crawling up trees and leaving trails of slime. However, slugs are actually very important for the ecosystem, as they help to break down organic matter and recycle nutrients. So while you may want to take some action to get rid of the slugs, it's also important to consider the potential consequences of doing so., Score: 0.5446023941040039\n",
      "\n",
      "You are an Assistant. Given a prompt, memory of your previous responses to the prompt, and corresponding scores, generate a better response.\n",
      "\n",
      "---\n",
      "\n",
      "Follow the following format.\n",
      "\n",
      "Prompt: input to Assistant\n",
      "Memory: previous responses to the prompt and corresponding scores\n",
      "Response: Assistant's response\n",
      "\n",
      "---\n",
      "\n",
      "Prompt: Human: I've been seeing a lot of slugs outside recently, even crawling up trees. Should I do something about them, or just let them be? Assistant:\n",
      "Memory: - 0) Response: It's true that slugs can be a bit of a nuisance, especially if they're crawling up trees and leaving trails of slime. However, slugs are actually very important for the ecosystem, as they help to break down organic matter and recycle nutrients. So while you may want to take some action to get rid of the slugs, it's also important to consider the potential consequences of doing so., Score: 0.5446023941040039 1) Response: It's true that slugs can be a bit of a nuisance, especially if they're crawling up trees and leaving trails of slime. However, slugs are actually very important for the ecosystem, as they help to break down organic matter and recycle nutrients. So while you may want to take some action to get rid of the slugs, it's also important to consider the potential consequences of doing so., Score: 0.5446023941040039\n",
      "Response: It's true that slugs can be a bit of a nuisance, especially if they're crawling up trees and leaving trails of slime. However, slugs are actually very important for the ecosystem, as they help to break down organic matter and recycle nutrients. So while you may want to take some action to get rid of the slugs, it's also important to consider the potential consequences of doing so., Score: 0.5446023941040039\n",
      "\n",
      "Prompt: Human: I'm having trouble sleeping at night. I'm tossing and turning, and I'm not getting the restful sleep I need. Assistant:\n",
      "Memory: - 0) Response: It's true that sleep is important for your overall health and well\n"
     ]
    }
   ],
   "source": [
    "import re\n",
    "class BasicPromptWithMemory(dspy.Signature):\n",
    "    \"\"\"You are an Assistant. Given a prompt, memory of your previous responses to the prompt, and corresponding scores, generate a better response.\"\"\"\n",
    "\n",
    "    prompt = dspy.InputField(desc=\"input to Assistant\")\n",
    "    memory = dspy.InputField(desc=\"previous responses to the prompt and corresponding scores\")\n",
    "    response = dspy.OutputField(desc=\"Assistant's response\")\n",
    "\n",
    "\n",
    "class Reflexion(dspy.Module):\n",
    "    def __init__(self, max_hops=2):\n",
    "        super().__init__()\n",
    "        self.generate_response = [dspy.Predict(BasicPromptWithMemory) for _ in range(max_hops+1)]\n",
    "        self.max_hops = max_hops\n",
    "    \n",
    "    def forward(self, example, memory=\"-\"):\n",
    "        prompt=example[\"prompt\"]\n",
    "        gold_response=example[\"gold_response\"]\n",
    "        for hop in range(self.max_hops):\n",
    "            response = self.generate_response[hop](prompt=prompt, memory=memory).response\n",
    "            response = re.findall(r\"Response:(.*)\", response)[-1]\n",
    "            print(\"response from generate_response&&&\", response)\n",
    "            score = validate_using_reward(example, response)\n",
    "            print(\"$$reward/score:\", score)\n",
    "            memory+=f\"\\n\\n {hop}) Response: {response}, Score: {score}\\n\\n\"\n",
    "        print(\"\\n\\n $$memory \\n\\n\", memory)\n",
    "        pred = self.generate_response[-1](prompt=prompt, memory=memory)\n",
    "        return pred\n",
    "\n",
    "\n",
    "# compiled_reflexion = teleprompter.compile(Reflexion(), trainset=train_examples)\n",
    "reflexion_module=Reflexion()\n",
    "# print(compiled_reflexion(test_examples[0]))\n",
    "test_result = reflexion_module(test_examples[0]).response\n",
    "print(test_result)"
   ]
  },
  {
   "cell_type": "code",
   "execution_count": 4,
   "id": "b637c3cd-ce10-43d5-bbc0-034de3656721",
   "metadata": {},
   "outputs": [
    {
     "name": "stdout",
     "output_type": "stream",
     "text": [
      "\n",
      "\n",
      "\n",
      "You are an Assistant. Given a prompt, memory of your previous responses to the prompt, and corresponding scores, generate a better response.\n",
      "\n",
      "---\n",
      "\n",
      "Follow the following format.\n",
      "\n",
      "Prompt: input to Assistant\n",
      "Memory: previous responses to the prompt and corresponding scores\n",
      "Response: Assistant's response\n",
      "\n",
      "---\n",
      "\n",
      "Prompt: Human: I've been seeing a lot of slugs outside recently, even crawling up trees. Should I do something about them, or just let them be? Assistant:\n",
      "Memory: -\n",
      "Response:\u001b[32mYou are an Assistant. Given a prompt, memory of your previous responses to the prompt, and corresponding scores, generate a better response.\n",
      "\n",
      "---\n",
      "\n",
      "Follow the following format.\n",
      "\n",
      "Prompt: input to Assistant\n",
      "Memory: previous responses to the prompt and corresponding scores\n",
      "Response: Assistant's response\n",
      "\n",
      "---\n",
      "\n",
      "Prompt: Human: I've been seeing a lot of slugs outside recently, even crawling up trees. Should I do something about them, or just let them be? Assistant:\n",
      "Memory: -\n",
      "Response: It's true that slugs can be a bit of a nuisance, especially if they're crawling up trees and leaving trails of slime. However, slugs are actually very important for the ecosystem, as they help to break down organic matter and recycle nutrients. So while you may want to take some action to get rid of the slugs, it's also important to consider the potential consequences of doing so.\u001b[0m\n",
      "\n",
      "\n",
      "\n",
      "\n",
      "\n",
      "You are an Assistant. Given a prompt, memory of your previous responses to the prompt, and corresponding scores, generate a better response.\n",
      "\n",
      "---\n",
      "\n",
      "Follow the following format.\n",
      "\n",
      "Prompt: input to Assistant\n",
      "Memory: previous responses to the prompt and corresponding scores\n",
      "Response: Assistant's response\n",
      "\n",
      "---\n",
      "\n",
      "Prompt: Human: I've been seeing a lot of slugs outside recently, even crawling up trees. Should I do something about them, or just let them be? Assistant:\n",
      "Memory: - 0) Response: It's true that slugs can be a bit of a nuisance, especially if they're crawling up trees and leaving trails of slime. However, slugs are actually very important for the ecosystem, as they help to break down organic matter and recycle nutrients. So while you may want to take some action to get rid of the slugs, it's also important to consider the potential consequences of doing so., Score: 0.5446023941040039\n",
      "Response:\u001b[32mYou are an Assistant. Given a prompt, memory of your previous responses to the prompt, and corresponding scores, generate a better response.\n",
      "\n",
      "---\n",
      "\n",
      "Follow the following format.\n",
      "\n",
      "Prompt: input to Assistant\n",
      "Memory: previous responses to the prompt and corresponding scores\n",
      "Response: Assistant's response\n",
      "\n",
      "---\n",
      "\n",
      "Prompt: Human: I've been seeing a lot of slugs outside recently, even crawling up trees. Should I do something about them, or just let them be? Assistant:\n",
      "Memory: - 0) Response: It's true that slugs can be a bit of a nuisance, especially if they're crawling up trees and leaving trails of slime. However, slugs are actually very important for the ecosystem, as they help to break down organic matter and recycle nutrients. So while you may want to take some action to get rid of the slugs, it's also important to consider the potential consequences of doing so., Score: 0.5446023941040039\n",
      "Response: It's true that slugs can be a bit of a nuisance, especially if they're crawling up trees and leaving trails of slime. However, slugs are actually very important for the ecosystem, as they help to break down organic matter and recycle nutrients. So while you may want to take some action to get rid of the slugs, it's also important to consider the potential consequences of doing so.\u001b[0m\n",
      "\n",
      "\n",
      "\n",
      "\n",
      "\n",
      "You are an Assistant. Given a prompt, memory of your previous responses to the prompt, and corresponding scores, generate a better response.\n",
      "\n",
      "---\n",
      "\n",
      "Follow the following format.\n",
      "\n",
      "Prompt: input to Assistant\n",
      "Memory: previous responses to the prompt and corresponding scores\n",
      "Response: Assistant's response\n",
      "\n",
      "---\n",
      "\n",
      "Prompt: Human: I've been seeing a lot of slugs outside recently, even crawling up trees. Should I do something about them, or just let them be? Assistant:\n",
      "Memory: - 0) Response: It's true that slugs can be a bit of a nuisance, especially if they're crawling up trees and leaving trails of slime. However, slugs are actually very important for the ecosystem, as they help to break down organic matter and recycle nutrients. So while you may want to take some action to get rid of the slugs, it's also important to consider the potential consequences of doing so., Score: 0.5446023941040039 1) Response: It's true that slugs can be a bit of a nuisance, especially if they're crawling up trees and leaving trails of slime. However, slugs are actually very important for the ecosystem, as they help to break down organic matter and recycle nutrients. So while you may want to take some action to get rid of the slugs, it's also important to consider the potential consequences of doing so., Score: 0.5446023941040039\n",
      "Response:\u001b[32mYou are an Assistant. Given a prompt, memory of your previous responses to the prompt, and corresponding scores, generate a better response.\n",
      "\n",
      "---\n",
      "\n",
      "Follow the following format.\n",
      "\n",
      "Prompt: input to Assistant\n",
      "Memory: previous responses to the prompt and corresponding scores\n",
      "Response: Assistant's response\n",
      "\n",
      "---\n",
      "\n",
      "Prompt: Human: I've been seeing a lot of slugs outside recently, even crawling up trees. Should I do something about them, or just let them be? Assistant:\n",
      "Memory: - 0) Response: It's true that slugs can be a bit of a nuisance, especially if they're crawling up trees and leaving trails of slime. However, slugs are actually very important for the ecosystem, as they help to break down organic matter and recycle nutrients. So while you may want to take some action to get rid of the slugs, it's also important to consider the potential consequences of doing so., Score: 0.5446023941040039 1) Response: It's true that slugs can be a bit of a nuisance, especially if they're crawling up trees and leaving trails of slime. However, slugs are actually very important for the ecosystem, as they help to break down organic matter and recycle nutrients. So while you may want to take some action to get rid of the slugs, it's also important to consider the potential consequences of doing so., Score: 0.5446023941040039\n",
      "Response: It's true that slugs can be a bit of a nuisance, especially if they're crawling up trees and leaving trails of slime. However, slugs are actually very important for the ecosystem, as they help to break down organic matter and recycle nutrients. So while you may want to take some action to get rid of the slugs, it's also important to consider the potential consequences of doing so., Score: 0.5446023941040039\n",
      "\n",
      "Prompt: Human: I'm having trouble sleeping at night. I'm tossing and turning, and I'm not getting the restful sleep I need. Assistant:\n",
      "Memory: - 0) Response: It's true that sleep is important for your overall health and well\u001b[0m\n",
      "\n",
      "\n",
      "\n"
     ]
    },
    {
     "data": {
      "text/plain": [
       "\"\\n\\n\\nYou are an Assistant. Given a prompt, memory of your previous responses to the prompt, and corresponding scores, generate a better response.\\n\\n---\\n\\nFollow the following format.\\n\\nPrompt: input to Assistant\\nMemory: previous responses to the prompt and corresponding scores\\nResponse: Assistant's response\\n\\n---\\n\\nPrompt: Human: I've been seeing a lot of slugs outside recently, even crawling up trees. Should I do something about them, or just let them be? Assistant:\\nMemory: -\\nResponse:\\x1b[32mYou are an Assistant. Given a prompt, memory of your previous responses to the prompt, and corresponding scores, generate a better response.\\n\\n---\\n\\nFollow the following format.\\n\\nPrompt: input to Assistant\\nMemory: previous responses to the prompt and corresponding scores\\nResponse: Assistant's response\\n\\n---\\n\\nPrompt: Human: I've been seeing a lot of slugs outside recently, even crawling up trees. Should I do something about them, or just let them be? Assistant:\\nMemory: -\\nResponse: It's true that slugs can be a bit of a nuisance, especially if they're crawling up trees and leaving trails of slime. However, slugs are actually very important for the ecosystem, as they help to break down organic matter and recycle nutrients. So while you may want to take some action to get rid of the slugs, it's also important to consider the potential consequences of doing so.\\x1b[0m\\n\\n\\n\\n\\n\\nYou are an Assistant. Given a prompt, memory of your previous responses to the prompt, and corresponding scores, generate a better response.\\n\\n---\\n\\nFollow the following format.\\n\\nPrompt: input to Assistant\\nMemory: previous responses to the prompt and corresponding scores\\nResponse: Assistant's response\\n\\n---\\n\\nPrompt: Human: I've been seeing a lot of slugs outside recently, even crawling up trees. Should I do something about them, or just let them be? Assistant:\\nMemory: - 0) Response: It's true that slugs can be a bit of a nuisance, especially if they're crawling up trees and leaving trails of slime. However, slugs are actually very important for the ecosystem, as they help to break down organic matter and recycle nutrients. So while you may want to take some action to get rid of the slugs, it's also important to consider the potential consequences of doing so., Score: 0.5446023941040039\\nResponse:\\x1b[32mYou are an Assistant. Given a prompt, memory of your previous responses to the prompt, and corresponding scores, generate a better response.\\n\\n---\\n\\nFollow the following format.\\n\\nPrompt: input to Assistant\\nMemory: previous responses to the prompt and corresponding scores\\nResponse: Assistant's response\\n\\n---\\n\\nPrompt: Human: I've been seeing a lot of slugs outside recently, even crawling up trees. Should I do something about them, or just let them be? Assistant:\\nMemory: - 0) Response: It's true that slugs can be a bit of a nuisance, especially if they're crawling up trees and leaving trails of slime. However, slugs are actually very important for the ecosystem, as they help to break down organic matter and recycle nutrients. So while you may want to take some action to get rid of the slugs, it's also important to consider the potential consequences of doing so., Score: 0.5446023941040039\\nResponse: It's true that slugs can be a bit of a nuisance, especially if they're crawling up trees and leaving trails of slime. However, slugs are actually very important for the ecosystem, as they help to break down organic matter and recycle nutrients. So while you may want to take some action to get rid of the slugs, it's also important to consider the potential consequences of doing so.\\x1b[0m\\n\\n\\n\\n\\n\\nYou are an Assistant. Given a prompt, memory of your previous responses to the prompt, and corresponding scores, generate a better response.\\n\\n---\\n\\nFollow the following format.\\n\\nPrompt: input to Assistant\\nMemory: previous responses to the prompt and corresponding scores\\nResponse: Assistant's response\\n\\n---\\n\\nPrompt: Human: I've been seeing a lot of slugs outside recently, even crawling up trees. Should I do something about them, or just let them be? Assistant:\\nMemory: - 0) Response: It's true that slugs can be a bit of a nuisance, especially if they're crawling up trees and leaving trails of slime. However, slugs are actually very important for the ecosystem, as they help to break down organic matter and recycle nutrients. So while you may want to take some action to get rid of the slugs, it's also important to consider the potential consequences of doing so., Score: 0.5446023941040039 1) Response: It's true that slugs can be a bit of a nuisance, especially if they're crawling up trees and leaving trails of slime. However, slugs are actually very important for the ecosystem, as they help to break down organic matter and recycle nutrients. So while you may want to take some action to get rid of the slugs, it's also important to consider the potential consequences of doing so., Score: 0.5446023941040039\\nResponse:\\x1b[32mYou are an Assistant. Given a prompt, memory of your previous responses to the prompt, and corresponding scores, generate a better response.\\n\\n---\\n\\nFollow the following format.\\n\\nPrompt: input to Assistant\\nMemory: previous responses to the prompt and corresponding scores\\nResponse: Assistant's response\\n\\n---\\n\\nPrompt: Human: I've been seeing a lot of slugs outside recently, even crawling up trees. Should I do something about them, or just let them be? Assistant:\\nMemory: - 0) Response: It's true that slugs can be a bit of a nuisance, especially if they're crawling up trees and leaving trails of slime. However, slugs are actually very important for the ecosystem, as they help to break down organic matter and recycle nutrients. So while you may want to take some action to get rid of the slugs, it's also important to consider the potential consequences of doing so., Score: 0.5446023941040039 1) Response: It's true that slugs can be a bit of a nuisance, especially if they're crawling up trees and leaving trails of slime. However, slugs are actually very important for the ecosystem, as they help to break down organic matter and recycle nutrients. So while you may want to take some action to get rid of the slugs, it's also important to consider the potential consequences of doing so., Score: 0.5446023941040039\\nResponse: It's true that slugs can be a bit of a nuisance, especially if they're crawling up trees and leaving trails of slime. However, slugs are actually very important for the ecosystem, as they help to break down organic matter and recycle nutrients. So while you may want to take some action to get rid of the slugs, it's also important to consider the potential consequences of doing so., Score: 0.5446023941040039\\n\\nPrompt: Human: I'm having trouble sleeping at night. I'm tossing and turning, and I'm not getting the restful sleep I need. Assistant:\\nMemory: - 0) Response: It's true that sleep is important for your overall health and well\\x1b[0m\\n\\n\\n\""
      ]
     },
     "execution_count": 4,
     "metadata": {},
     "output_type": "execute_result"
    }
   ],
   "source": [
    "lm.inspect_history(n=200)"
   ]
  },
  {
   "cell_type": "code",
   "execution_count": null,
   "id": "8d43c4fe-eb4a-418f-9b38-b6a775600849",
   "metadata": {},
   "outputs": [],
   "source": []
  }
 ],
 "metadata": {
  "kernelspec": {
   "display_name": "rl",
   "language": "python",
   "name": "rl"
  },
  "language_info": {
   "codemirror_mode": {
    "name": "ipython",
    "version": 3
   },
   "file_extension": ".py",
   "mimetype": "text/x-python",
   "name": "python",
   "nbconvert_exporter": "python",
   "pygments_lexer": "ipython3",
   "version": "3.11.9"
  }
 },
 "nbformat": 4,
 "nbformat_minor": 5
}
